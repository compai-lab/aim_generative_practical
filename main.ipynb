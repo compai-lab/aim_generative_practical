{
  "cells": [
    {
      "attachments": {},
      "cell_type": "markdown",
      "metadata": {
        "id": "OoTeGAt6fxsl"
      },
      "source": [
        "# Unsupervised Anomaly Detection on fastMRI"
      ]
    },
    {
      "attachments": {},
      "cell_type": "markdown",
      "metadata": {},
      "source": [
        "### *Run these cells only when in Google Colab*"
      ]
    },
    {
      "cell_type": "code",
      "execution_count": null,
      "metadata": {
        "id": "VspkePbtJknj"
      },
      "outputs": [],
      "source": [
        "# # Clone the repository\n",
        "# !git clone https://github.com/compai-lab/mad_seminar_s23.git\n",
        "# # Move all content to the current directory\n",
        "# !mv ./mad_seminar_s23/* ./\n",
        "# # Remove the empty directory\n",
        "# !rm -rf mad_seminar_s23/\n",
        "# # Download the data\n",
        "# !wget <link you got from your supervisor> -P ./data/\n",
        "# # Extract the data\n",
        "# !unzip -q ./data/data.zip -d ./data/"
      ]
    },
    {
      "cell_type": "code",
      "execution_count": null,
      "metadata": {},
      "outputs": [],
      "source": [
        "# !pip install pytorch_lightning --quiet"
      ]
    },
    {
      "cell_type": "code",
      "execution_count": null,
      "metadata": {
        "colab": {
          "base_uri": "https://localhost:8080/"
        },
        "id": "5kqcMaSnfxsq",
        "outputId": "b201b2d7-dc4b-4d7a-d849-fb454919f271"
      },
      "outputs": [],
      "source": [
        "import matplotlib.pyplot as plt\n",
        "import pytorch_lightning as pl\n",
        "import torch\n",
        "import yaml\n",
        "\n",
        "from model.model import AutoencoderModel\n",
        "from data_loader import TrainDataModule, get_all_test_dataloaders\n",
        "\n",
        "# autoreload imported modules\n",
        "%load_ext autoreload\n",
        "%autoreload 2"
      ]
    },
    {
      "attachments": {},
      "cell_type": "markdown",
      "metadata": {
        "id": "a75uI3JUfxst"
      },
      "source": [
        "## Load the config"
      ]
    },
    {
      "cell_type": "code",
      "execution_count": null,
      "metadata": {
        "colab": {
          "base_uri": "https://localhost:8080/"
        },
        "id": "4qCL70ETfxst",
        "outputId": "f8d8c64c-6f24-40a7-967c-8a5fdb3bd278"
      },
      "outputs": [],
      "source": [
        "with open('./configs/autoencoder_config.yaml', 'r') as f:\n",
        "    config = yaml.safe_load(f)\n",
        "\n",
        "# Reproducibility\n",
        "pl.seed_everything(config['seed'])"
      ]
    },
    {
      "attachments": {},
      "cell_type": "markdown",
      "metadata": {
        "id": "DhrZD23Yfxsu"
      },
      "source": [
        "## Load and visualize the data"
      ]
    },
    {
      "cell_type": "code",
      "execution_count": null,
      "metadata": {
        "colab": {
          "base_uri": "https://localhost:8080/",
          "height": 254
        },
        "id": "LoqBwZGXfxsv",
        "outputId": "9bd8a9e6-4c76-4b67-907f-b047f7ca997c"
      },
      "outputs": [],
      "source": [
        "train_data_module = TrainDataModule(\n",
        "    data_dir=config['train_data_dir'],\n",
        "    target_size=config['target_size'],\n",
        "    batch_size=config['batch_size'])\n",
        "\n",
        "# Plot some images\n",
        "batch = next(iter(train_data_module.train_dataloader()))\n",
        "\n",
        "# Print statistics\n",
        "print(f\"Batch shape: {batch.shape}\")\n",
        "print(f\"Batch min: {batch.min()}\")\n",
        "print(f\"Batch max: {batch.max()}\")\n",
        "\n",
        "fig, ax = plt.subplots(1, 5, figsize=(15, 5))\n",
        "for i in range(5):\n",
        "    ax[i].imshow(batch[i].squeeze(), cmap='gray')\n",
        "    ax[i].axis('off')\n",
        "plt.show()"
      ]
    },
    {
      "attachments": {},
      "cell_type": "markdown",
      "metadata": {},
      "source": [
        "## Tensorboard"
      ]
    },
    {
      "cell_type": "code",
      "execution_count": null,
      "metadata": {},
      "outputs": [],
      "source": [
        "%load_ext tensorboard\n",
        "%tensorboard --logdir lightning_logs/"
      ]
    },
    {
      "attachments": {},
      "cell_type": "markdown",
      "metadata": {
        "id": "7pbYVVmmfxsw"
      },
      "source": [
        "## Prepare model"
      ]
    },
    {
      "cell_type": "code",
      "execution_count": null,
      "metadata": {
        "colab": {
          "base_uri": "https://localhost:8080/"
        },
        "id": "v0-GO64Mfxsw",
        "outputId": "d6a4c8cb-4d12-4ada-cb0a-e0f8cae9b458"
      },
      "outputs": [],
      "source": [
        "# Init model\n",
        "model = AutoencoderModel(config)\n",
        "\n",
        "# Use tensorboard logger and CSV logger\n",
        "trainer = pl.Trainer(\n",
        "    max_epochs=config['num_epochs'],\n",
        "    logger=[\n",
        "        pl.loggers.TensorBoardLogger(save_dir='./'),\n",
        "        pl.loggers.CSVLogger(save_dir='./')\n",
        "    ],\n",
        ")"
      ]
    },
    {
      "attachments": {},
      "cell_type": "markdown",
      "metadata": {
        "id": "GnLmpTGnfxsx"
      },
      "source": [
        "## Run training"
      ]
    },
    {
      "cell_type": "code",
      "execution_count": null,
      "metadata": {
        "colab": {
          "base_uri": "https://localhost:8080/",
          "height": 375,
          "referenced_widgets": [
            "7c51e24d50484d39b107b2614413ff23",
            "1a8bff35f1474f1ba616ef6b670839a3",
            "b957ed83cbd84d3a95375a7288114c56",
            "50eac7c1bb1b453eba189c980eb478d3",
            "fcf6e492722f4f4fb88b2ccfc6b6606f",
            "ea63d21ed60b43898bf085eeacfe04b1",
            "ee5f9d9e2b7e4f91b8492d77bc97f172",
            "28a1149fd0774f6a92ce6cfed6c5ab1d",
            "3f0c3917a73c497ca4a7a7dd620ab4b3",
            "773e8bc7200c4dad801df29009f86db2",
            "2d2c99ae385c4ac38db4360fbdd3af5b"
          ]
        },
        "id": "pCLiaz_0fxsx",
        "outputId": "644f2b7d-cfa3-4267-834e-94c9ea033295"
      },
      "outputs": [],
      "source": [
        "# Train the model\n",
        "trainer.fit(model, datamodule=train_data_module)"
      ]
    },
    {
      "attachments": {},
      "cell_type": "markdown",
      "metadata": {
        "id": "oCj3GOM4fxsy"
      },
      "source": [
        "## Evaluation"
      ]
    },
    {
      "cell_type": "code",
      "execution_count": null,
      "metadata": {
        "colab": {
          "base_uri": "https://localhost:8080/",
          "height": 422
        },
        "id": "i_Pvc0G8fxsy",
        "outputId": "fa38bc98-62a1-4766-fca3-551a83ffe784"
      },
      "outputs": [],
      "source": [
        "# Reconstructions from the validation set\n",
        "batch = next(iter(train_data_module.val_dataloader()))\n",
        "\n",
        "with torch.inference_mode():\n",
        "    results = model.detect_anomaly(batch)\n",
        "    reconstructions = results['reconstruction']\n",
        "\n",
        "# Plot images and reconstructions\n",
        "fig, ax = plt.subplots(2, 5, figsize=(15, 5))\n",
        "for i in range(5):\n",
        "    ax[0][i].imshow(batch[i].squeeze(), cmap='gray')\n",
        "    ax[0][i].axis('off')\n",
        "    ax[1][i].imshow(reconstructions[i].squeeze(), cmap='gray')\n",
        "    ax[1][i].axis('off')"
      ]
    },
    {
      "attachments": {},
      "cell_type": "markdown",
      "metadata": {
        "id": "A87g7JI7G3OZ"
      },
      "source": [
        "## Visualize pathology and labels"
      ]
    },
    {
      "cell_type": "code",
      "execution_count": null,
      "metadata": {},
      "outputs": [],
      "source": [
        "# Get test dataloaders\n",
        "test_dataloaders = get_all_test_dataloaders(config['split_dir'], config['target_size'], config['batch_size'])"
      ]
    },
    {
      "cell_type": "code",
      "execution_count": null,
      "metadata": {
        "colab": {
          "base_uri": "https://localhost:8080/",
          "height": 444
        },
        "id": "q5ksw_ocfxs0",
        "outputId": "76260187-79ee-4c52-b099-148ffd3fd1cc"
      },
      "outputs": [],
      "source": [
        "diseases = ['absent_septum', 'edema', 'enlarged_ventricles', 'mass', 'dural']\n",
        "fig, ax = plt.subplots(3, len(diseases), figsize=(15, 5))\n",
        "for i in range(len(diseases)):\n",
        "  batch = next(iter(test_dataloaders[diseases[i]]))\n",
        "  inputs, pos_labels, neg_masks = batch\n",
        "  ax[0][i].imshow(inputs[i].squeeze(), cmap='gray')\n",
        "  ax[0][i].axis('off')\n",
        "  ax[1][i].imshow(pos_labels[i].squeeze(), cmap='gray')\n",
        "  ax[1][i].axis('off')\n",
        "  ax[2][i].imshow(neg_masks[i].squeeze(), cmap='gray')\n",
        "  ax[2][i].axis('off')\n",
        "  ax[0][i].set_title(diseases[i])"
      ]
    },
    {
      "cell_type": "code",
      "execution_count": null,
      "metadata": {
        "colab": {
          "base_uri": "https://localhost:8080/",
          "height": 487
        },
        "id": "Bswz76iPfxs0",
        "outputId": "26206677-2219-4973-baab-27dc27ae5d73"
      },
      "outputs": [],
      "source": [
        "from evaluate import Evaluator \n",
        "\n",
        "evaluator = Evaluator(model, model.device, test_dataloaders['mass'])\n",
        "\n",
        "fig_metrics, metrics = evaluator.evaluate()"
      ]
    },
    {
      "cell_type": "code",
      "execution_count": null,
      "metadata": {
        "id": "a8_HhuCLE3sm"
      },
      "outputs": [],
      "source": []
    }
  ],
  "metadata": {
    "colab": {
      "provenance": []
    },
    "kernelspec": {
      "display_name": "anomaly_detection",
      "language": "python",
      "name": "python3"
    },
    "language_info": {
      "codemirror_mode": {
        "name": "ipython",
        "version": 3
      },
      "file_extension": ".py",
      "mimetype": "text/x-python",
      "name": "python",
      "nbconvert_exporter": "python",
      "pygments_lexer": "ipython3",
      "version": "3.10.11"
    },
    "orig_nbformat": 4,
    "widgets": {
      "application/vnd.jupyter.widget-state+json": {
        "1a8bff35f1474f1ba616ef6b670839a3": {
          "model_module": "@jupyter-widgets/controls",
          "model_module_version": "1.5.0",
          "model_name": "HTMLModel",
          "state": {
            "_dom_classes": [],
            "_model_module": "@jupyter-widgets/controls",
            "_model_module_version": "1.5.0",
            "_model_name": "HTMLModel",
            "_view_count": null,
            "_view_module": "@jupyter-widgets/controls",
            "_view_module_version": "1.5.0",
            "_view_name": "HTMLView",
            "description": "",
            "description_tooltip": null,
            "layout": "IPY_MODEL_ea63d21ed60b43898bf085eeacfe04b1",
            "placeholder": "​",
            "style": "IPY_MODEL_ee5f9d9e2b7e4f91b8492d77bc97f172",
            "value": "Epoch 25:  27%"
          }
        },
        "28a1149fd0774f6a92ce6cfed6c5ab1d": {
          "model_module": "@jupyter-widgets/base",
          "model_module_version": "1.2.0",
          "model_name": "LayoutModel",
          "state": {
            "_model_module": "@jupyter-widgets/base",
            "_model_module_version": "1.2.0",
            "_model_name": "LayoutModel",
            "_view_count": null,
            "_view_module": "@jupyter-widgets/base",
            "_view_module_version": "1.2.0",
            "_view_name": "LayoutView",
            "align_content": null,
            "align_items": null,
            "align_self": null,
            "border": null,
            "bottom": null,
            "display": null,
            "flex": "2",
            "flex_flow": null,
            "grid_area": null,
            "grid_auto_columns": null,
            "grid_auto_flow": null,
            "grid_auto_rows": null,
            "grid_column": null,
            "grid_gap": null,
            "grid_row": null,
            "grid_template_areas": null,
            "grid_template_columns": null,
            "grid_template_rows": null,
            "height": null,
            "justify_content": null,
            "justify_items": null,
            "left": null,
            "margin": null,
            "max_height": null,
            "max_width": null,
            "min_height": null,
            "min_width": null,
            "object_fit": null,
            "object_position": null,
            "order": null,
            "overflow": null,
            "overflow_x": null,
            "overflow_y": null,
            "padding": null,
            "right": null,
            "top": null,
            "visibility": null,
            "width": null
          }
        },
        "2d2c99ae385c4ac38db4360fbdd3af5b": {
          "model_module": "@jupyter-widgets/controls",
          "model_module_version": "1.5.0",
          "model_name": "DescriptionStyleModel",
          "state": {
            "_model_module": "@jupyter-widgets/controls",
            "_model_module_version": "1.5.0",
            "_model_name": "DescriptionStyleModel",
            "_view_count": null,
            "_view_module": "@jupyter-widgets/base",
            "_view_module_version": "1.2.0",
            "_view_name": "StyleView",
            "description_width": ""
          }
        },
        "3f0c3917a73c497ca4a7a7dd620ab4b3": {
          "model_module": "@jupyter-widgets/controls",
          "model_module_version": "1.5.0",
          "model_name": "ProgressStyleModel",
          "state": {
            "_model_module": "@jupyter-widgets/controls",
            "_model_module_version": "1.5.0",
            "_model_name": "ProgressStyleModel",
            "_view_count": null,
            "_view_module": "@jupyter-widgets/base",
            "_view_module_version": "1.2.0",
            "_view_name": "StyleView",
            "bar_color": null,
            "description_width": ""
          }
        },
        "50eac7c1bb1b453eba189c980eb478d3": {
          "model_module": "@jupyter-widgets/controls",
          "model_module_version": "1.5.0",
          "model_name": "HTMLModel",
          "state": {
            "_dom_classes": [],
            "_model_module": "@jupyter-widgets/controls",
            "_model_module_version": "1.5.0",
            "_model_name": "HTMLModel",
            "_view_count": null,
            "_view_module": "@jupyter-widgets/controls",
            "_view_module_version": "1.5.0",
            "_view_name": "HTMLView",
            "description": "",
            "description_tooltip": null,
            "layout": "IPY_MODEL_773e8bc7200c4dad801df29009f86db2",
            "placeholder": "​",
            "style": "IPY_MODEL_2d2c99ae385c4ac38db4360fbdd3af5b",
            "value": " 4/15 [00:01&lt;00:04,  2.47it/s, v_num=0]"
          }
        },
        "773e8bc7200c4dad801df29009f86db2": {
          "model_module": "@jupyter-widgets/base",
          "model_module_version": "1.2.0",
          "model_name": "LayoutModel",
          "state": {
            "_model_module": "@jupyter-widgets/base",
            "_model_module_version": "1.2.0",
            "_model_name": "LayoutModel",
            "_view_count": null,
            "_view_module": "@jupyter-widgets/base",
            "_view_module_version": "1.2.0",
            "_view_name": "LayoutView",
            "align_content": null,
            "align_items": null,
            "align_self": null,
            "border": null,
            "bottom": null,
            "display": null,
            "flex": null,
            "flex_flow": null,
            "grid_area": null,
            "grid_auto_columns": null,
            "grid_auto_flow": null,
            "grid_auto_rows": null,
            "grid_column": null,
            "grid_gap": null,
            "grid_row": null,
            "grid_template_areas": null,
            "grid_template_columns": null,
            "grid_template_rows": null,
            "height": null,
            "justify_content": null,
            "justify_items": null,
            "left": null,
            "margin": null,
            "max_height": null,
            "max_width": null,
            "min_height": null,
            "min_width": null,
            "object_fit": null,
            "object_position": null,
            "order": null,
            "overflow": null,
            "overflow_x": null,
            "overflow_y": null,
            "padding": null,
            "right": null,
            "top": null,
            "visibility": null,
            "width": null
          }
        },
        "7c51e24d50484d39b107b2614413ff23": {
          "model_module": "@jupyter-widgets/controls",
          "model_module_version": "1.5.0",
          "model_name": "HBoxModel",
          "state": {
            "_dom_classes": [],
            "_model_module": "@jupyter-widgets/controls",
            "_model_module_version": "1.5.0",
            "_model_name": "HBoxModel",
            "_view_count": null,
            "_view_module": "@jupyter-widgets/controls",
            "_view_module_version": "1.5.0",
            "_view_name": "HBoxView",
            "box_style": "",
            "children": [
              "IPY_MODEL_1a8bff35f1474f1ba616ef6b670839a3",
              "IPY_MODEL_b957ed83cbd84d3a95375a7288114c56",
              "IPY_MODEL_50eac7c1bb1b453eba189c980eb478d3"
            ],
            "layout": "IPY_MODEL_fcf6e492722f4f4fb88b2ccfc6b6606f"
          }
        },
        "b957ed83cbd84d3a95375a7288114c56": {
          "model_module": "@jupyter-widgets/controls",
          "model_module_version": "1.5.0",
          "model_name": "FloatProgressModel",
          "state": {
            "_dom_classes": [],
            "_model_module": "@jupyter-widgets/controls",
            "_model_module_version": "1.5.0",
            "_model_name": "FloatProgressModel",
            "_view_count": null,
            "_view_module": "@jupyter-widgets/controls",
            "_view_module_version": "1.5.0",
            "_view_name": "ProgressView",
            "bar_style": "",
            "description": "",
            "description_tooltip": null,
            "layout": "IPY_MODEL_28a1149fd0774f6a92ce6cfed6c5ab1d",
            "max": 15,
            "min": 0,
            "orientation": "horizontal",
            "style": "IPY_MODEL_3f0c3917a73c497ca4a7a7dd620ab4b3",
            "value": 4
          }
        },
        "ea63d21ed60b43898bf085eeacfe04b1": {
          "model_module": "@jupyter-widgets/base",
          "model_module_version": "1.2.0",
          "model_name": "LayoutModel",
          "state": {
            "_model_module": "@jupyter-widgets/base",
            "_model_module_version": "1.2.0",
            "_model_name": "LayoutModel",
            "_view_count": null,
            "_view_module": "@jupyter-widgets/base",
            "_view_module_version": "1.2.0",
            "_view_name": "LayoutView",
            "align_content": null,
            "align_items": null,
            "align_self": null,
            "border": null,
            "bottom": null,
            "display": null,
            "flex": null,
            "flex_flow": null,
            "grid_area": null,
            "grid_auto_columns": null,
            "grid_auto_flow": null,
            "grid_auto_rows": null,
            "grid_column": null,
            "grid_gap": null,
            "grid_row": null,
            "grid_template_areas": null,
            "grid_template_columns": null,
            "grid_template_rows": null,
            "height": null,
            "justify_content": null,
            "justify_items": null,
            "left": null,
            "margin": null,
            "max_height": null,
            "max_width": null,
            "min_height": null,
            "min_width": null,
            "object_fit": null,
            "object_position": null,
            "order": null,
            "overflow": null,
            "overflow_x": null,
            "overflow_y": null,
            "padding": null,
            "right": null,
            "top": null,
            "visibility": null,
            "width": null
          }
        },
        "ee5f9d9e2b7e4f91b8492d77bc97f172": {
          "model_module": "@jupyter-widgets/controls",
          "model_module_version": "1.5.0",
          "model_name": "DescriptionStyleModel",
          "state": {
            "_model_module": "@jupyter-widgets/controls",
            "_model_module_version": "1.5.0",
            "_model_name": "DescriptionStyleModel",
            "_view_count": null,
            "_view_module": "@jupyter-widgets/base",
            "_view_module_version": "1.2.0",
            "_view_name": "StyleView",
            "description_width": ""
          }
        },
        "fcf6e492722f4f4fb88b2ccfc6b6606f": {
          "model_module": "@jupyter-widgets/base",
          "model_module_version": "1.2.0",
          "model_name": "LayoutModel",
          "state": {
            "_model_module": "@jupyter-widgets/base",
            "_model_module_version": "1.2.0",
            "_model_name": "LayoutModel",
            "_view_count": null,
            "_view_module": "@jupyter-widgets/base",
            "_view_module_version": "1.2.0",
            "_view_name": "LayoutView",
            "align_content": null,
            "align_items": null,
            "align_self": null,
            "border": null,
            "bottom": null,
            "display": "inline-flex",
            "flex": null,
            "flex_flow": "row wrap",
            "grid_area": null,
            "grid_auto_columns": null,
            "grid_auto_flow": null,
            "grid_auto_rows": null,
            "grid_column": null,
            "grid_gap": null,
            "grid_row": null,
            "grid_template_areas": null,
            "grid_template_columns": null,
            "grid_template_rows": null,
            "height": null,
            "justify_content": null,
            "justify_items": null,
            "left": null,
            "margin": null,
            "max_height": null,
            "max_width": null,
            "min_height": null,
            "min_width": null,
            "object_fit": null,
            "object_position": null,
            "order": null,
            "overflow": null,
            "overflow_x": null,
            "overflow_y": null,
            "padding": null,
            "right": null,
            "top": null,
            "visibility": null,
            "width": "100%"
          }
        }
      }
    }
  },
  "nbformat": 4,
  "nbformat_minor": 0
}
